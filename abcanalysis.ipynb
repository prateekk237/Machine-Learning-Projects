# what is ABC Analysis ?

ABC Analysis is a product segmentation technique used in Inventory Control

A : High value item and the service level is High
B : Moderate value items and the service level is Medium
C : Low value items and service level is Low

# How to do ABC Analysis?

Required minimum 1 year sales data of all the Product with Quantity sold and Revenue generated
"""

#import the packages required for the analysis
import pandas as pd # Pandas used for Data analysis, Data importing, exporting
import numpy as np  # NumPy is used for mathematical operatons 
import seaborn as sns  # Seaborn is used for Plot, Graphical Represet
!pip install inventorize3
import inventorize3 as inv  # import the inventorize3 for ABC Analysis

raw_data = pd.read_csv("/content/final(1).csv")

raw_data.head(5)

#check how many columns
raw_data.shape

#check the type of Data
raw_data.dtypes

#check the data period Date using min & max
raw_data ['date']= pd.to_datetime (raw_data ['date'])
print(raw_data['date'].min(), raw_data['date'].max())

# Clean the data 
data= raw_data.drop_duplicates ()
data= data.dropna()
data= data [data ['item' ]>0]

raw_data.shape

# Only Column we needed
data1 = data [['date','store', 'item', 'Price']]

# Now calculate the Revenue
data1 ['Revenue'] = data1 ['item'] * data1 ['Price']

data1.head()

# Calculate Stock keeping Unit (SKU) = Quantity & Total Revenue  and add the Volume column

data2 = data1.groupby (['date', 'store']).agg (Volume = ('item',np.sum), Revenue = ('Revenue',np.sum)).reset_index()

data2.head()

# Lets Classify the Product to A B C 
data_abc = inv.ABC(data2 [['store', 'Volume']])

# Lets check the classification of the product 

data_abc

# Lets count the Categories

data_abc.Category.value_counts()

data_summary = data_abc.groupby ('Category').agg (Count = ('Category',np.count_nonzero), Percentage = ('Percentage',np.sum)).reset_index()

data_summary ['Percentage'] = data_summary['Percentage'] * 100

data_summary

# Lets Plot the Graph and Count the Category

sns.countplot (x= 'Category', data = data_abc, label = True)

# Lets plot the Graph for Volume Sales 
sns.barplot ( x='Category', y= 'Volume', data= data_abc)

# Lets count the Category
data_abc1 =inv.ABC(data2 [['store', 'Revenue']])
data_abc.Category.value_counts()
