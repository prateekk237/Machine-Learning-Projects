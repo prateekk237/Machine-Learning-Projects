{
  "nbformat": 4,
  "nbformat_minor": 0,
  "metadata": {
    "colab": {
      "name": "abcanalysis.ipynb",
      "provenance": [],
      "collapsed_sections": [],
      "mount_file_id": "1CqW7rNnl9Z-FWciMOplQnr0LrZKjgg-Y",
      "authorship_tag": "ABX9TyMiJs0uxSJ2Px2626fXN++9",
      "include_colab_link": true
    },
    "kernelspec": {
      "name": "python3",
      "display_name": "Python 3"
    },
    "language_info": {
      "name": "python"
    }
  },
  "cells": [
    {
      "cell_type": "markdown",
      "metadata": {
        "id": "view-in-github",
        "colab_type": "text"
      },
      "source": [
        "<a href=\"https://colab.research.google.com/github/prateekk237/iTunesAndroid/blob/main/abcanalysis.ipynb\" target=\"_parent\"><img src=\"https://colab.research.google.com/assets/colab-badge.svg\" alt=\"Open In Colab\"/></a>"
      ]
    },
    {
      "cell_type": "markdown",
      "metadata": {
        "id": "rIiewcYSr0dZ"
      },
      "source": [
        "# what is ABC Analysis ?\n",
        "\n",
        "ABC Analysis is a product segmentation technique used in Inventory Control\n",
        "\n",
        "A : High value item and the service level is High\n",
        "B : Moderate value items and the service level is Medium\n",
        "C : Low value items and service level is Low\n",
        "\n",
        "\n",
        "> Indented block\n",
        "\n",
        "\n",
        "# How to do ABC Analysis?\n",
        "\n",
        "Required minimum 1 year sales data of all the Product with Quantity sold and Revenue generated\n"
      ]
    },
    {
      "cell_type": "code",
      "metadata": {
        "id": "uWYg3tP7acZP"
      },
      "source": [
        "#import the packages required for the analysis\n",
        "import pandas as pd # Pandas used for Data analysis, Data importing, exporting\n",
        "import numpy as np  # NumPy is used for mathematical operatons \n",
        "import seaborn as sns  # Seaborn is used for Plot, Graphical Represet\n",
        "!pip install inventorize3\n",
        "import inventorize3 as inv  # import the inventorize3 for ABC Analysis"
      ],
      "execution_count": null,
      "outputs": []
    },
    {
      "cell_type": "code",
      "metadata": {
        "id": "cYidXKmTbCdM"
      },
      "source": [
        "raw_data = pd.read_csv(\"/content/final(1).csv\")"
      ],
      "execution_count": null,
      "outputs": []
    },
    {
      "cell_type": "code",
      "metadata": {
        "colab": {
          "base_uri": "https://localhost:8080/",
          "height": 204
        },
        "id": "Zhi2fJwPdApL",
        "outputId": "93b0132e-cdab-41d8-bc21-83c4185c4dcb"
      },
      "source": [
        "raw_data.head(5)"
      ],
      "execution_count": null,
      "outputs": [
        {
          "output_type": "execute_result",
          "data": {
            "text/html": [
              "<div>\n",
              "<style scoped>\n",
              "    .dataframe tbody tr th:only-of-type {\n",
              "        vertical-align: middle;\n",
              "    }\n",
              "\n",
              "    .dataframe tbody tr th {\n",
              "        vertical-align: top;\n",
              "    }\n",
              "\n",
              "    .dataframe thead th {\n",
              "        text-align: right;\n",
              "    }\n",
              "</style>\n",
              "<table border=\"1\" class=\"dataframe\">\n",
              "  <thead>\n",
              "    <tr style=\"text-align: right;\">\n",
              "      <th></th>\n",
              "      <th>date</th>\n",
              "      <th>store</th>\n",
              "      <th>item</th>\n",
              "      <th>sales</th>\n",
              "      <th>Price</th>\n",
              "    </tr>\n",
              "  </thead>\n",
              "  <tbody>\n",
              "    <tr>\n",
              "      <th>0</th>\n",
              "      <td>2013-01-01</td>\n",
              "      <td>1.0</td>\n",
              "      <td>1.0</td>\n",
              "      <td>13.0</td>\n",
              "      <td>12.0</td>\n",
              "    </tr>\n",
              "    <tr>\n",
              "      <th>1</th>\n",
              "      <td>2013-01-02</td>\n",
              "      <td>1.0</td>\n",
              "      <td>1.0</td>\n",
              "      <td>11.0</td>\n",
              "      <td>12.0</td>\n",
              "    </tr>\n",
              "    <tr>\n",
              "      <th>2</th>\n",
              "      <td>2013-01-03</td>\n",
              "      <td>1.0</td>\n",
              "      <td>1.0</td>\n",
              "      <td>14.0</td>\n",
              "      <td>12.0</td>\n",
              "    </tr>\n",
              "    <tr>\n",
              "      <th>3</th>\n",
              "      <td>2013-01-04</td>\n",
              "      <td>1.0</td>\n",
              "      <td>1.0</td>\n",
              "      <td>13.0</td>\n",
              "      <td>12.0</td>\n",
              "    </tr>\n",
              "    <tr>\n",
              "      <th>4</th>\n",
              "      <td>2013-01-05</td>\n",
              "      <td>1.0</td>\n",
              "      <td>1.0</td>\n",
              "      <td>10.0</td>\n",
              "      <td>12.0</td>\n",
              "    </tr>\n",
              "  </tbody>\n",
              "</table>\n",
              "</div>"
            ],
            "text/plain": [
              "         date  store  item  sales  Price\n",
              "0  2013-01-01    1.0   1.0   13.0   12.0\n",
              "1  2013-01-02    1.0   1.0   11.0   12.0\n",
              "2  2013-01-03    1.0   1.0   14.0   12.0\n",
              "3  2013-01-04    1.0   1.0   13.0   12.0\n",
              "4  2013-01-05    1.0   1.0   10.0   12.0"
            ]
          },
          "metadata": {
            "tags": []
          },
          "execution_count": 4
        }
      ]
    },
    {
      "cell_type": "code",
      "metadata": {
        "colab": {
          "base_uri": "https://localhost:8080/"
        },
        "id": "aU4TKnnTflGP",
        "outputId": "dc6793c5-ce51-4278-b0f4-457536bfa371"
      },
      "source": [
        "#check how many columns\n",
        "raw_data.shape"
      ],
      "execution_count": null,
      "outputs": [
        {
          "output_type": "execute_result",
          "data": {
            "text/plain": [
              "(188453, 5)"
            ]
          },
          "metadata": {
            "tags": []
          },
          "execution_count": 5
        }
      ]
    },
    {
      "cell_type": "code",
      "metadata": {
        "colab": {
          "base_uri": "https://localhost:8080/"
        },
        "id": "0JUlc6Wtlav2",
        "outputId": "1d437975-d44d-40da-f538-c56dc0c02edb"
      },
      "source": [
        "#check the type of Data\n",
        "raw_data.dtypes"
      ],
      "execution_count": null,
      "outputs": [
        {
          "output_type": "execute_result",
          "data": {
            "text/plain": [
              "date      object\n",
              "store    float64\n",
              "item     float64\n",
              "sales    float64\n",
              "Price    float64\n",
              "dtype: object"
            ]
          },
          "metadata": {
            "tags": []
          },
          "execution_count": 6
        }
      ]
    },
    {
      "cell_type": "code",
      "metadata": {
        "colab": {
          "base_uri": "https://localhost:8080/"
        },
        "id": "gdFYSUmlmxnm",
        "outputId": "b97daa94-7a4a-41f3-cf06-657223d6ee7c"
      },
      "source": [
        "#check the data period Date using min & max\n",
        "raw_data ['date']= pd.to_datetime (raw_data ['date'])\n",
        "print(raw_data['date'].min(), raw_data['date'].max())"
      ],
      "execution_count": null,
      "outputs": [
        {
          "output_type": "stream",
          "text": [
            "2013-01-01 00:00:00 2017-12-31 00:00:00\n"
          ],
          "name": "stdout"
        }
      ]
    },
    {
      "cell_type": "code",
      "metadata": {
        "id": "PVtWs4BWrElz"
      },
      "source": [
        "# Clean the data \n",
        "data= raw_data.drop_duplicates ()\n",
        "data= data.dropna()\n",
        "data= data [data ['item' ]>0]"
      ],
      "execution_count": null,
      "outputs": []
    },
    {
      "cell_type": "code",
      "metadata": {
        "colab": {
          "base_uri": "https://localhost:8080/"
        },
        "id": "n0B44n6KtoZv",
        "outputId": "80c86588-9eaf-4459-bebe-3a3611d2464e"
      },
      "source": [
        "raw_data.shape"
      ],
      "execution_count": null,
      "outputs": [
        {
          "output_type": "execute_result",
          "data": {
            "text/plain": [
              "(188453, 5)"
            ]
          },
          "metadata": {
            "tags": []
          },
          "execution_count": 10
        }
      ]
    },
    {
      "cell_type": "code",
      "metadata": {
        "id": "1tIDe5fGtuK1"
      },
      "source": [
        "# Only Column we needed\n",
        "data1 = data [['date','store', 'item', 'Price']]"
      ],
      "execution_count": null,
      "outputs": []
    },
    {
      "cell_type": "code",
      "metadata": {
        "id": "YVWA0HijwtWr"
      },
      "source": [
        "# Now calculate the Revenue\n",
        "data1 ['Revenue'] = data1 ['item'] * data1 ['Price']"
      ],
      "execution_count": null,
      "outputs": []
    },
    {
      "cell_type": "code",
      "metadata": {
        "colab": {
          "base_uri": "https://localhost:8080/",
          "height": 204
        },
        "id": "G_iqJyLVxvCO",
        "outputId": "b0bd6296-5413-49e3-b156-cba35d5b6f58"
      },
      "source": [
        "data1.head()"
      ],
      "execution_count": null,
      "outputs": [
        {
          "output_type": "execute_result",
          "data": {
            "text/html": [
              "<div>\n",
              "<style scoped>\n",
              "    .dataframe tbody tr th:only-of-type {\n",
              "        vertical-align: middle;\n",
              "    }\n",
              "\n",
              "    .dataframe tbody tr th {\n",
              "        vertical-align: top;\n",
              "    }\n",
              "\n",
              "    .dataframe thead th {\n",
              "        text-align: right;\n",
              "    }\n",
              "</style>\n",
              "<table border=\"1\" class=\"dataframe\">\n",
              "  <thead>\n",
              "    <tr style=\"text-align: right;\">\n",
              "      <th></th>\n",
              "      <th>date</th>\n",
              "      <th>store</th>\n",
              "      <th>item</th>\n",
              "      <th>Price</th>\n",
              "      <th>Revenue</th>\n",
              "    </tr>\n",
              "  </thead>\n",
              "  <tbody>\n",
              "    <tr>\n",
              "      <th>0</th>\n",
              "      <td>2013-01-01</td>\n",
              "      <td>1.0</td>\n",
              "      <td>1.0</td>\n",
              "      <td>12.0</td>\n",
              "      <td>12.0</td>\n",
              "    </tr>\n",
              "    <tr>\n",
              "      <th>1</th>\n",
              "      <td>2013-01-02</td>\n",
              "      <td>1.0</td>\n",
              "      <td>1.0</td>\n",
              "      <td>12.0</td>\n",
              "      <td>12.0</td>\n",
              "    </tr>\n",
              "    <tr>\n",
              "      <th>2</th>\n",
              "      <td>2013-01-03</td>\n",
              "      <td>1.0</td>\n",
              "      <td>1.0</td>\n",
              "      <td>12.0</td>\n",
              "      <td>12.0</td>\n",
              "    </tr>\n",
              "    <tr>\n",
              "      <th>3</th>\n",
              "      <td>2013-01-04</td>\n",
              "      <td>1.0</td>\n",
              "      <td>1.0</td>\n",
              "      <td>12.0</td>\n",
              "      <td>12.0</td>\n",
              "    </tr>\n",
              "    <tr>\n",
              "      <th>4</th>\n",
              "      <td>2013-01-05</td>\n",
              "      <td>1.0</td>\n",
              "      <td>1.0</td>\n",
              "      <td>12.0</td>\n",
              "      <td>12.0</td>\n",
              "    </tr>\n",
              "  </tbody>\n",
              "</table>\n",
              "</div>"
            ],
            "text/plain": [
              "        date  store  item  Price  Revenue\n",
              "0 2013-01-01    1.0   1.0   12.0     12.0\n",
              "1 2013-01-02    1.0   1.0   12.0     12.0\n",
              "2 2013-01-03    1.0   1.0   12.0     12.0\n",
              "3 2013-01-04    1.0   1.0   12.0     12.0\n",
              "4 2013-01-05    1.0   1.0   12.0     12.0"
            ]
          },
          "metadata": {
            "tags": []
          },
          "execution_count": 23
        }
      ]
    },
    {
      "cell_type": "code",
      "metadata": {
        "id": "TPy6G4Jdxy9X"
      },
      "source": [
        "# Calculate Stock keeping Unit (SKU) = Quantity & Total Revenue  and add the Volume column\n",
        "\n",
        "data2 = data1.groupby (['date', 'store']).agg (Volume = ('item',np.sum), Revenue = ('Revenue',np.sum)).reset_index()"
      ],
      "execution_count": null,
      "outputs": []
    },
    {
      "cell_type": "code",
      "metadata": {
        "colab": {
          "base_uri": "https://localhost:8080/",
          "height": 204
        },
        "id": "ov2E9Pxq28-Y",
        "outputId": "5ed3320c-5425-40e0-bad0-2a4a8df97c69"
      },
      "source": [
        "data2.head()"
      ],
      "execution_count": null,
      "outputs": [
        {
          "output_type": "execute_result",
          "data": {
            "text/html": [
              "<div>\n",
              "<style scoped>\n",
              "    .dataframe tbody tr th:only-of-type {\n",
              "        vertical-align: middle;\n",
              "    }\n",
              "\n",
              "    .dataframe tbody tr th {\n",
              "        vertical-align: top;\n",
              "    }\n",
              "\n",
              "    .dataframe thead th {\n",
              "        text-align: right;\n",
              "    }\n",
              "</style>\n",
              "<table border=\"1\" class=\"dataframe\">\n",
              "  <thead>\n",
              "    <tr style=\"text-align: right;\">\n",
              "      <th></th>\n",
              "      <th>date</th>\n",
              "      <th>store</th>\n",
              "      <th>Volume</th>\n",
              "      <th>Revenue</th>\n",
              "    </tr>\n",
              "  </thead>\n",
              "  <tbody>\n",
              "    <tr>\n",
              "      <th>0</th>\n",
              "      <td>2013-01-01</td>\n",
              "      <td>1.0</td>\n",
              "      <td>66.0</td>\n",
              "      <td>3191.0</td>\n",
              "    </tr>\n",
              "    <tr>\n",
              "      <th>1</th>\n",
              "      <td>2013-01-01</td>\n",
              "      <td>2.0</td>\n",
              "      <td>66.0</td>\n",
              "      <td>3191.0</td>\n",
              "    </tr>\n",
              "    <tr>\n",
              "      <th>2</th>\n",
              "      <td>2013-01-01</td>\n",
              "      <td>3.0</td>\n",
              "      <td>66.0</td>\n",
              "      <td>3191.0</td>\n",
              "    </tr>\n",
              "    <tr>\n",
              "      <th>3</th>\n",
              "      <td>2013-01-01</td>\n",
              "      <td>4.0</td>\n",
              "      <td>66.0</td>\n",
              "      <td>3191.0</td>\n",
              "    </tr>\n",
              "    <tr>\n",
              "      <th>4</th>\n",
              "      <td>2013-01-01</td>\n",
              "      <td>5.0</td>\n",
              "      <td>55.0</td>\n",
              "      <td>2421.0</td>\n",
              "    </tr>\n",
              "  </tbody>\n",
              "</table>\n",
              "</div>"
            ],
            "text/plain": [
              "        date  store  Volume  Revenue\n",
              "0 2013-01-01    1.0    66.0   3191.0\n",
              "1 2013-01-01    2.0    66.0   3191.0\n",
              "2 2013-01-01    3.0    66.0   3191.0\n",
              "3 2013-01-01    4.0    66.0   3191.0\n",
              "4 2013-01-01    5.0    55.0   2421.0"
            ]
          },
          "metadata": {
            "tags": []
          },
          "execution_count": 30
        }
      ]
    },
    {
      "cell_type": "code",
      "metadata": {
        "id": "PRy136x_3ATS"
      },
      "source": [
        "# Lets Classify the Product to A B C \n",
        "data_abc = inv.ABC(data2 [['store', 'Volume']])"
      ],
      "execution_count": null,
      "outputs": []
    },
    {
      "cell_type": "code",
      "metadata": {
        "colab": {
          "base_uri": "https://localhost:8080/",
          "height": 419
        },
        "id": "KAW6WZqt5Usd",
        "outputId": "4e4d99d7-2b7d-454a-9274-1894af82e275"
      },
      "source": [
        "# Lets check the classification of the product \n",
        "\n",
        "data_abc"
      ],
      "execution_count": null,
      "outputs": [
        {
          "output_type": "execute_result",
          "data": {
            "text/html": [
              "<div>\n",
              "<style scoped>\n",
              "    .dataframe tbody tr th:only-of-type {\n",
              "        vertical-align: middle;\n",
              "    }\n",
              "\n",
              "    .dataframe tbody tr th {\n",
              "        vertical-align: top;\n",
              "    }\n",
              "\n",
              "    .dataframe thead th {\n",
              "        text-align: right;\n",
              "    }\n",
              "</style>\n",
              "<table border=\"1\" class=\"dataframe\">\n",
              "  <thead>\n",
              "    <tr style=\"text-align: right;\">\n",
              "      <th></th>\n",
              "      <th>store</th>\n",
              "      <th>Volume</th>\n",
              "      <th>Percentage</th>\n",
              "      <th>comulative</th>\n",
              "      <th>Category</th>\n",
              "    </tr>\n",
              "  </thead>\n",
              "  <tbody>\n",
              "    <tr>\n",
              "      <th>0</th>\n",
              "      <td>1.0</td>\n",
              "      <td>66.0</td>\n",
              "      <td>0.000062</td>\n",
              "      <td>0.000062</td>\n",
              "      <td>A</td>\n",
              "    </tr>\n",
              "    <tr>\n",
              "      <th>8931</th>\n",
              "      <td>2.0</td>\n",
              "      <td>66.0</td>\n",
              "      <td>0.000062</td>\n",
              "      <td>0.000124</td>\n",
              "      <td>A</td>\n",
              "    </tr>\n",
              "    <tr>\n",
              "      <th>8922</th>\n",
              "      <td>3.0</td>\n",
              "      <td>66.0</td>\n",
              "      <td>0.000062</td>\n",
              "      <td>0.000185</td>\n",
              "      <td>A</td>\n",
              "    </tr>\n",
              "    <tr>\n",
              "      <th>8921</th>\n",
              "      <td>2.0</td>\n",
              "      <td>66.0</td>\n",
              "      <td>0.000062</td>\n",
              "      <td>0.000247</td>\n",
              "      <td>A</td>\n",
              "    </tr>\n",
              "    <tr>\n",
              "      <th>8920</th>\n",
              "      <td>1.0</td>\n",
              "      <td>66.0</td>\n",
              "      <td>0.000062</td>\n",
              "      <td>0.000309</td>\n",
              "      <td>A</td>\n",
              "    </tr>\n",
              "    <tr>\n",
              "      <th>...</th>\n",
              "      <td>...</td>\n",
              "      <td>...</td>\n",
              "      <td>...</td>\n",
              "      <td>...</td>\n",
              "      <td>...</td>\n",
              "    </tr>\n",
              "    <tr>\n",
              "      <th>9164</th>\n",
              "      <td>5.0</td>\n",
              "      <td>55.0</td>\n",
              "      <td>0.000051</td>\n",
              "      <td>0.999794</td>\n",
              "      <td>C</td>\n",
              "    </tr>\n",
              "    <tr>\n",
              "      <th>9165</th>\n",
              "      <td>6.0</td>\n",
              "      <td>55.0</td>\n",
              "      <td>0.000051</td>\n",
              "      <td>0.999846</td>\n",
              "      <td>C</td>\n",
              "    </tr>\n",
              "    <tr>\n",
              "      <th>9166</th>\n",
              "      <td>7.0</td>\n",
              "      <td>55.0</td>\n",
              "      <td>0.000051</td>\n",
              "      <td>0.999897</td>\n",
              "      <td>C</td>\n",
              "    </tr>\n",
              "    <tr>\n",
              "      <th>9167</th>\n",
              "      <td>8.0</td>\n",
              "      <td>55.0</td>\n",
              "      <td>0.000051</td>\n",
              "      <td>0.999949</td>\n",
              "      <td>C</td>\n",
              "    </tr>\n",
              "    <tr>\n",
              "      <th>18259</th>\n",
              "      <td>10.0</td>\n",
              "      <td>55.0</td>\n",
              "      <td>0.000051</td>\n",
              "      <td>1.000000</td>\n",
              "      <td>C</td>\n",
              "    </tr>\n",
              "  </tbody>\n",
              "</table>\n",
              "<p>18260 rows × 5 columns</p>\n",
              "</div>"
            ],
            "text/plain": [
              "       store  Volume  Percentage  comulative Category\n",
              "0        1.0    66.0    0.000062    0.000062        A\n",
              "8931     2.0    66.0    0.000062    0.000124        A\n",
              "8922     3.0    66.0    0.000062    0.000185        A\n",
              "8921     2.0    66.0    0.000062    0.000247        A\n",
              "8920     1.0    66.0    0.000062    0.000309        A\n",
              "...      ...     ...         ...         ...      ...\n",
              "9164     5.0    55.0    0.000051    0.999794        C\n",
              "9165     6.0    55.0    0.000051    0.999846        C\n",
              "9166     7.0    55.0    0.000051    0.999897        C\n",
              "9167     8.0    55.0    0.000051    0.999949        C\n",
              "18259   10.0    55.0    0.000051    1.000000        C\n",
              "\n",
              "[18260 rows x 5 columns]"
            ]
          },
          "metadata": {
            "tags": []
          },
          "execution_count": 37
        }
      ]
    },
    {
      "cell_type": "code",
      "metadata": {
        "colab": {
          "base_uri": "https://localhost:8080/"
        },
        "id": "bT7YYdu26_cw",
        "outputId": "b8d43c35-2fc1-4edd-df01-0170641885f1"
      },
      "source": [
        "# Lets count the Categories\n",
        "\n",
        "data_abc.Category.value_counts()"
      ],
      "execution_count": null,
      "outputs": [
        {
          "output_type": "execute_result",
          "data": {
            "text/plain": [
              "A    14373\n",
              "B     2915\n",
              "C      972\n",
              "Name: Category, dtype: int64"
            ]
          },
          "metadata": {
            "tags": []
          },
          "execution_count": 40
        }
      ]
    },
    {
      "cell_type": "code",
      "metadata": {
        "id": "v0zWmY9O8ne2"
      },
      "source": [
        "data_summary = data_abc.groupby ('Category').agg (Count = ('Category',np.count_nonzero), Percentage = ('Percentage',np.sum)).reset_index()"
      ],
      "execution_count": null,
      "outputs": []
    },
    {
      "cell_type": "code",
      "metadata": {
        "id": "obcAdXpt-Mjh"
      },
      "source": [
        "data_summary ['Percentage'] = data_summary['Percentage'] * 100"
      ],
      "execution_count": null,
      "outputs": []
    },
    {
      "cell_type": "code",
      "metadata": {
        "colab": {
          "base_uri": "https://localhost:8080/",
          "height": 142
        },
        "id": "mNFO-_ONrIhs",
        "outputId": "5cb08125-d2ac-4fea-cfed-981f82ec743d"
      },
      "source": [
        "data_summary"
      ],
      "execution_count": null,
      "outputs": [
        {
          "output_type": "execute_result",
          "data": {
            "text/html": [
              "<div>\n",
              "<style scoped>\n",
              "    .dataframe tbody tr th:only-of-type {\n",
              "        vertical-align: middle;\n",
              "    }\n",
              "\n",
              "    .dataframe tbody tr th {\n",
              "        vertical-align: top;\n",
              "    }\n",
              "\n",
              "    .dataframe thead th {\n",
              "        text-align: right;\n",
              "    }\n",
              "</style>\n",
              "<table border=\"1\" class=\"dataframe\">\n",
              "  <thead>\n",
              "    <tr style=\"text-align: right;\">\n",
              "      <th></th>\n",
              "      <th>Category</th>\n",
              "      <th>Count</th>\n",
              "      <th>Percentage</th>\n",
              "    </tr>\n",
              "  </thead>\n",
              "  <tbody>\n",
              "    <tr>\n",
              "      <th>0</th>\n",
              "      <td>A</td>\n",
              "      <td>14373</td>\n",
              "      <td>79.995265</td>\n",
              "    </tr>\n",
              "    <tr>\n",
              "      <th>1</th>\n",
              "      <td>B</td>\n",
              "      <td>2915</td>\n",
              "      <td>15.002264</td>\n",
              "    </tr>\n",
              "    <tr>\n",
              "      <th>2</th>\n",
              "      <td>C</td>\n",
              "      <td>972</td>\n",
              "      <td>5.002470</td>\n",
              "    </tr>\n",
              "  </tbody>\n",
              "</table>\n",
              "</div>"
            ],
            "text/plain": [
              "  Category  Count  Percentage\n",
              "0        A  14373   79.995265\n",
              "1        B   2915   15.002264\n",
              "2        C    972    5.002470"
            ]
          },
          "metadata": {
            "tags": []
          },
          "execution_count": 73
        }
      ]
    },
    {
      "cell_type": "code",
      "metadata": {
        "colab": {
          "base_uri": "https://localhost:8080/",
          "height": 296
        },
        "id": "v9YirwVxCGPn",
        "outputId": "5ec080cc-c4c4-49d7-b4f8-f66eff44eb3b"
      },
      "source": [
        "# Lets Plot the Graph and Count the Category\n",
        "\n",
        "sns.countplot (x= 'Category', data = data_abc, label = True)"
      ],
      "execution_count": null,
      "outputs": [
        {
          "output_type": "execute_result",
          "data": {
            "text/plain": [
              "<matplotlib.axes._subplots.AxesSubplot at 0x7f012f735cd0>"
            ]
          },
          "metadata": {
            "tags": []
          },
          "execution_count": 60
        },
        {
          "output_type": "display_data",
          "data": {
            "image/png": "[encoded data removed]",
            "text/plain": [
              "<Figure size 432x288 with 1 Axes>"
            ]
          },
          "metadata": {
            "tags": [],
            "needs_background": "light"
          }
        }
      ]
    },
    {
      "cell_type": "code",
      "metadata": {
        "colab": {
          "base_uri": "https://localhost:8080/",
          "height": 296
        },
        "id": "Sg1trOVjDRnw",
        "outputId": "cd4c02e5-cf52-45b6-fa58-4c62898f6801"
      },
      "source": [
        "# Lets plot the Graph for Volume Sales \n",
        "sns.barplot ( x='Category', y= 'Volume', data= data_abc)"
      ],
      "execution_count": null,
      "outputs": [
        {
          "output_type": "execute_result",
          "data": {
            "text/plain": [
              "<matplotlib.axes._subplots.AxesSubplot at 0x7f012f1b2c90>"
            ]
          },
          "metadata": {
            "tags": []
          },
          "execution_count": 62
        },
        {
          "output_type": "display_data",
          "data": {
            "image/png": "[encoded data removed]",
            "text/plain": [
              "<Figure size 432x288 with 1 Axes>"
            ]
          },
          "metadata": {
            "tags": [],
            "needs_background": "light"
          }
        }
      ]
    },
    {
      "cell_type": "code",
      "metadata": {
        "colab": {
          "base_uri": "https://localhost:8080/"
        },
        "id": "C-wDXm4vGgI1",
        "outputId": "7e20aa70-fcf2-4643-f706-f911b64af51d"
      },
      "source": [
        "# Lets count the Category\n",
        "data_abc1 =inv.ABC(data2 [['store', 'Revenue']])\n",
        "data_abc.Category.value_counts()"
      ],
      "execution_count": null,
      "outputs": [
        {
          "output_type": "execute_result",
          "data": {
            "text/plain": [
              "A    14373\n",
              "B     2915\n",
              "C      972\n",
              "Name: Category, dtype: int64"
            ]
          },
          "metadata": {
            "tags": []
          },
          "execution_count": 63
        }
      ]
    }
  ]
}